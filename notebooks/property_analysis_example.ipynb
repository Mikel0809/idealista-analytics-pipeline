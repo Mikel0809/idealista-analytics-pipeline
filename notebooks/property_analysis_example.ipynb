{
 "cells": [
  {
   "cell_type": "markdown",
   "metadata": {},
   "source": [
    "# Madrid South Real Estate Investment Analysis\n",
    "\n",
    "This notebook demonstrates how to analyze the processed real estate data to identify investment opportunities."
   ]
  },
  {
   "cell_type": "code",
   "execution_count": null,
   "metadata": {},
   "outputs": [],
   "source": [
    "# Import libraries\n",
    "import pandas as pd\n",
    "import numpy as np\n",
    "import matplotlib.pyplot as plt\n",
    "import seaborn as sns\n",
    "from google.cloud import bigquery\n",
    "from dotenv import load_dotenv\n",
    "import os\n",
    "\n",
    "# Load environment variables\n",
    "load_dotenv()\n",
    "\n",
    "# Set style\n",
    "plt.style.use('seaborn-v0_8-darkgrid')\n",
    "sns.set_palette('husl')"
   ]
  },
  {
   "cell_type": "code",
   "execution_count": null,
   "metadata": {},
   "outputs": [],
   "source": [
    "# Connect to BigQuery\n",
    "project_id = os.getenv('BIGQUERY_PROJECT_ID')\n",
    "client = bigquery.Client(project=project_id)\n",
    "\n",
    "# Query the mart table\n",
    "query = \"\"\"\n",
    "SELECT \n",
    "    property_code,\n",
    "    address,\n",
    "    municipality,\n",
    "    price,\n",
    "    size,\n",
    "    rooms,\n",
    "    price_by_area,\n",
    "    price_deviation_zone_pct,\n",
    "    competitiveness_index,\n",
    "    opportunity_classification,\n",
    "    premium_features_count,\n",
    "    avg_price_zone,\n",
    "    avg_price_m2_zone\n",
    "FROM `{}.dbt_mart.madrid_south_real_estate_metrics`\n",
    "WHERE is_valid_record = true\n",
    "\"\"\".format(project_id)\n",
    "\n",
    "df = client.query(query).to_dataframe()\n",
    "print(f\"Loaded {len(df)} properties for analysis\")"
   ]
  },
  {
   "cell_type": "markdown",
   "metadata": {},
   "source": [
    "## 1. Investment Opportunities Overview"
   ]
  },
  {
   "cell_type": "code",
   "execution_count": null,
   "metadata": {},
   "outputs": [],
   "source": [
    "# Opportunity distribution\n",
    "opportunity_dist = df['opportunity_classification'].value_counts()\n",
    "\n",
    "fig, (ax1, ax2) = plt.subplots(1, 2, figsize=(15, 6))\n",
    "\n",
    "# Pie chart\n",
    "colors = ['#2ecc71', '#95a5a6', '#e74c3c']\n",
    "ax1.pie(opportunity_dist.values, labels=opportunity_dist.index, autopct='%1.1f%%', colors=colors)\n",
    "ax1.set_title('Property Classification Distribution')\n",
    "\n",
    "# Bar chart with counts\n",
    "opportunity_dist.plot(kind='bar', ax=ax2, color=colors)\n",
    "ax2.set_title('Number of Properties by Classification')\n",
    "ax2.set_xlabel('Classification')\n",
    "ax2.set_ylabel('Count')\n",
    "ax2.set_xticklabels(ax2.get_xticklabels(), rotation=0)\n",
    "\n",
    "plt.tight_layout()\n",
    "plt.show()"
   ]
  },
  {
   "cell_type": "markdown",
   "metadata": {},
   "source": [
    "## 2. Top Investment Opportunities"
   ]
  },
  {
   "cell_type": "code",
   "execution_count": null,
   "metadata": {},
   "outputs": [],
   "source": [
    "# Find top opportunities\n",
    "opportunities = df[df['opportunity_classification'] == 'Opportunity'].copy()\n",
    "opportunities = opportunities.sort_values('competitiveness_index', ascending=False).head(10)\n",
    "\n",
    "# Display key metrics\n",
    "display_cols = [\n",
    "    'address', 'municipality', 'price', 'size', \n",
    "    'price_deviation_zone_pct', 'competitiveness_index', \n",
    "    'premium_features_count'\n",
    "]\n",
    "\n",
    "print(\"\\n🎯 TOP 10 INVESTMENT OPPORTUNITIES IN SOUTHERN MADRID\\n\")\n",
    "print(opportunities[display_cols].to_string(index=False))"
   ]
  },
  {
   "cell_type": "markdown",
   "metadata": {},
   "source": [
    "## 3. Price Analysis by Zone"
   ]
  },
  {
   "cell_type": "code",
   "execution_count": null,
   "metadata": {},
   "outputs": [],
   "source": [
    "# Price deviation analysis\n",
    "fig, ax = plt.subplots(figsize=(14, 8))\n",
    "\n",
    "# Group by municipality and calculate average price deviation\n",
    "zone_analysis = df.groupby('municipality').agg({\n",
    "    'price_deviation_zone_pct': 'mean',\n",
    "    'property_code': 'count',\n",
    "    'price': 'mean'\n",
    "}).round(2)\n",
    "\n",
    "zone_analysis.columns = ['avg_price_deviation', 'property_count', 'avg_price']\n",
    "zone_analysis = zone_analysis.sort_values('avg_price_deviation')\n",
    "\n",
    "# Create bar plot\n",
    "colors = ['green' if x < 0 else 'red' for x in zone_analysis['avg_price_deviation']]\n",
    "zone_analysis['avg_price_deviation'].plot(kind='barh', color=colors, ax=ax)\n",
    "\n",
    "ax.set_title('Average Price Deviation by Municipality', fontsize=14, fontweight='bold')\n",
    "ax.set_xlabel('Price Deviation from Zone Average (%)')\n",
    "ax.set_ylabel('Municipality')\n",
    "ax.axvline(x=0, color='black', linestyle='-', linewidth=0.5)\n",
    "\n",
    "# Add value labels\n",
    "for i, (v, count) in enumerate(zip(zone_analysis['avg_price_deviation'], zone_analysis['property_count'])):\n",
    "    ax.text(v, i, f' {v}% ({count} props)', va='center')\n",
    "\n",
    "plt.tight_layout()\n",
    "plt.show()"
   ]
  },
  {
   "cell_type": "markdown",
   "metadata": {},
   "source": [
    "## 4. Premium Features Analysis"
   ]
  },
  {
   "cell_type": "code",
   "execution_count": null,
   "metadata": {},
   "outputs": [],
   "source": [
    "# Analyze relationship between features and opportunity classification\n",
    "feature_analysis = df.groupby(['premium_features_count', 'opportunity_classification']).size().unstack(fill_value=0)\n",
    "\n",
    "fig, ax = plt.subplots(figsize=(12, 6))\n",
    "feature_analysis.plot(kind='bar', stacked=True, ax=ax, color=['#2ecc71', '#95a5a6', '#e74c3c'])\n",
    "\n",
    "ax.set_title('Property Classification by Premium Features Count', fontsize=14, fontweight='bold')\n",
    "ax.set_xlabel('Number of Premium Features')\n",
    "ax.set_ylabel('Number of Properties')\n",
    "ax.legend(title='Classification')\n",
    "ax.set_xticklabels(ax.get_xticklabels(), rotation=0)\n",
    "\n",
    "plt.tight_layout()\n",
    "plt.show()"
   ]
  },
  {
   "cell_type": "markdown",
   "metadata": {},
   "source": [
    "## 5. Investment Recommendations"
   ]
  },
  {
   "cell_type": "code",
   "execution_count": null,
   "metadata": {},
   "outputs": [],
   "source": [
    "# Generate investment recommendations\n",
    "print(\"\\n📊 INVESTMENT INSIGHTS FOR SOUTHERN MADRID\\n\")\n",
    "print(\"=\"*60)\n",
    "\n",
    "# Opportunities summary\n",
    "opp_pct = (len(df[df['opportunity_classification'] == 'Opportunity']) / len(df)) * 100\n",
    "print(f\"\\n✅ Investment Opportunities: {opp_pct:.1f}% of market\")\n",
    "\n",
    "# Best municipality for investment\n",
    "best_municipality = df[df['opportunity_classification'] == 'Opportunity']['municipality'].value_counts().head(1)\n",
    "if not best_municipality.empty:\n",
    "    print(f\"🏆 Top Municipality: {best_municipality.index[0]} ({best_municipality.values[0]} opportunities)\")\n",
    "\n",
    "# Average discount for opportunities\n",
    "avg_discount = df[df['opportunity_classification'] == 'Opportunity']['price_deviation_zone_pct'].mean()\n",
    "print(f\"💰 Average Discount: {avg_discount:.1f}% below zone average\")\n",
    "\n",
    "# Sweet spot for features\n",
    "sweet_spot = df[df['opportunity_classification'] == 'Opportunity']['premium_features_count'].mode()\n",
    "if not sweet_spot.empty:\n",
    "    print(f\"🎯 Optimal Features Count: {sweet_spot.values[0]} premium features\")\n",
    "\n",
    "print(\"\\n\" + \"=\"*60)\n",
    "print(\"\\n💡 KEY RECOMMENDATIONS:\")\n",
    "print(\"1. Focus on properties 20%+ below zone average\")\n",
    "print(\"2. Prioritize properties with 2-3 premium features\")\n",
    "print(\"3. Target undervalued municipalities identified above\")\n",
    "print(\"4. Act quickly on properties with high competitiveness index\")"
   ]
  }
 ],
 "metadata": {
  "kernelspec": {
   "display_name": "Python 3",
   "language": "python",
   "name": "python3"
  },
  "language_info": {
   "codemirror_mode": {
    "name": "ipython",
    "version": 3
   },
   "file_extension": ".py",
   "mimetype": "text/x-python",
   "name": "python",
   "nbconvert_exporter": "python",
   "pygments_lexer": "ipython3",
   "version": "3.12.0"
  }
 },
 "nbformat": 4,
 "nbformat_minor": 4
}
